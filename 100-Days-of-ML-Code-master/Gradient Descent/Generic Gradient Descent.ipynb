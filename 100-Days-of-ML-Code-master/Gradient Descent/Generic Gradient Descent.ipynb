{
 "cells": [
  {
   "cell_type": "code",
   "execution_count": 1,
   "metadata": {},
   "outputs": [],
   "source": [
    "import numpy as np"
   ]
  },
  {
   "cell_type": "code",
   "execution_count": 3,
   "metadata": {},
   "outputs": [
    {
     "name": "stdout",
     "output_type": "stream",
     "text": [
      "[ 48.09963148  79.04277796  91.02633563  70.24217988  88.48700931\n",
      "  81.57949305  77.24602181  58.151381    71.17294135  77.74617913\n",
      "  67.20189534  80.41042034  65.34499138  86.05476754  83.9234244\n",
      "  72.43117602  66.1186222   89.20292578  67.49604935  57.43749023\n",
      "  97.91675564  96.77251006  70.25041529  61.51724826  76.70387826\n",
      "  87.8328079   84.7852638   94.10993983  69.15079356  74.79854927\n",
      "  77.2640623   52.6328787   62.7902524   86.04895495  85.07280837\n",
      "  67.23265529  91.56737728  48.97432328  53.91674485  55.74993576\n",
      "  65.92402973  64.09426905  74.08337881  64.91105617  93.1959207\n",
      "  48.34614567  59.43399438  79.26204522  50.1135681   95.72416747\n",
      "  56.40677433  65.8455492   60.07378266  61.73172454  75.58508677\n",
      "  81.48471287  61.22456942  92.45240336  72.79791758  60.81783752\n",
      "  60.9351523   74.25084414  77.49246358  74.17556715  49.78895764\n",
      "  58.5334068   83.04084649  84.86223355  89.161353    52.79593717\n",
      "  46.74766823  79.38900742  69.06888156  63.78303666 104.06304276\n",
      "  65.83123116  85.07293509  54.64737262  82.56074511  57.64149334\n",
      "  84.1807459   84.13295981  50.80699308  87.35799275  85.49245765\n",
      "  80.30793017  75.58521279  74.39347001  65.41551882  56.23769392\n",
      "  48.74754623  79.43441748 101.72602968  68.40155386 101.06593141\n",
      "  74.01983274  72.85097377  74.03373585  71.23921715  37.19514636]\n"
     ]
    }
   ],
   "source": [
    "def change(points,learning_rate,m,col):\n",
    "    rows = len(points)\n",
    "    m_slope = np.zeros(col-1)\n",
    "    for i in range(rows):\n",
    "        x_i = points[i,:-1]\n",
    "        y_i = points[i,-1]\n",
    "        \n",
    "        ans = 0\n",
    "        for k in range(col-1):\n",
    "            ans += m[k]*x_i[k]\n",
    "            \n",
    "        for j in range(col-1):\n",
    "            m_slope[j] += (-2/rows)*(y_i - ans)*x_i[j]\n",
    "        new_m = m - learning_rate*m_slope\n",
    "        \n",
    "    return new_m\n",
    "    \n",
    "\n",
    "def gen_gradient_descent(points,learning_rate,num_iterations):\n",
    "    col = points.shape[1] \n",
    "    m = np.zeros(col-1)\n",
    "    for i in range(num_iterations):\n",
    "        m = change(points,learning_rate,m,col)\n",
    "    return m\n",
    "\n",
    "def cost(points,m,col):\n",
    "    total_cost = 0\n",
    "    n = len(points)\n",
    "    for i in range(n):\n",
    "        x_i = points[i,:-1]\n",
    "        y_i = points[i,-1]\n",
    "        for j in range(col-1):\n",
    "            total_cost += (1/n)*((y_i - m[j]*x_i[j])**2)\n",
    "    return total_cost\n",
    "\n",
    "def run():\n",
    "    data = np.loadtxt(\"data.csv\",delimiter=\",\")\n",
    "    data = np.insert(data,-1,1,axis=1)\n",
    "    learning_rate = 0.0001\n",
    "    num_iterations = 100\n",
    "    m = gen_gradient_descent(data,learning_rate,num_iterations)\n",
    "    y = np.zeros(100)\n",
    "    for i in range(100):\n",
    "        ans = 0\n",
    "        for j in range(1):\n",
    "            ans += data[i][j]*m[j]\n",
    "        ans+=m[-1]\n",
    "        y[i] = ans\n",
    "    print(y)\n",
    "run()\n"
   ]
  },
  {
   "cell_type": "code",
   "execution_count": null,
   "metadata": {},
   "outputs": [],
   "source": []
  }
 ],
 "metadata": {
  "kernelspec": {
   "display_name": "Python 3",
   "language": "python",
   "name": "python3"
  },
  "language_info": {
   "codemirror_mode": {
    "name": "ipython",
    "version": 3
   },
   "file_extension": ".py",
   "mimetype": "text/x-python",
   "name": "python",
   "nbconvert_exporter": "python",
   "pygments_lexer": "ipython3",
   "version": "3.6.5"
  }
 },
 "nbformat": 4,
 "nbformat_minor": 2
}
