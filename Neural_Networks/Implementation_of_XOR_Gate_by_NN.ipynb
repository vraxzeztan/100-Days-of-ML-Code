{
 "cells": [
  {
   "cell_type": "markdown",
   "metadata": {},
   "source": [
    "## Refer to Simplest NN file to see Sigmoid Function"
   ]
  },
  {
   "cell_type": "code",
   "execution_count": 0,
   "metadata": {
    "colab": {},
    "colab_type": "code",
    "id": "y693GMb_Gq4Y"
   },
   "outputs": [],
   "source": [
    "import numpy as np"
   ]
  },
  {
   "cell_type": "code",
   "execution_count": 0,
   "metadata": {
    "colab": {},
    "colab_type": "code",
    "id": "BE-e_c8wGq4d",
    "outputId": "03e8448f-62f8-4062-c589-dd8e397efae9"
   },
   "outputs": [
    {
     "data": {
      "text/plain": [
       "((4, 2), (4, 1))"
      ]
     },
     "execution_count": 2,
     "metadata": {
      "tags": []
     },
     "output_type": "execute_result"
    }
   ],
   "source": [
    "X = np.array([[0,0], [0,1], [1,0], [1,1]])\n",
    "Y = np.array([[0,1,1,0]]).T\n",
    "X.shape, Y.shape"
   ]
  },
  {
   "cell_type": "code",
   "execution_count": 0,
   "metadata": {
    "colab": {},
    "colab_type": "code",
    "id": "zbpzqiukGq4k"
   },
   "outputs": [],
   "source": [
    "def sigmoid(z):\n",
    "    return 1/(1 + np.exp(-z))"
   ]
  },
  {
   "cell_type": "code",
   "execution_count": 0,
   "metadata": {
    "colab": {},
    "colab_type": "code",
    "id": "Rf0ErcdGGq4p"
   },
   "outputs": [],
   "source": [
    "def derivativeSigmoid(z):\n",
    "    return sigmoid(z)*(1 - sigmoid(z))"
   ]
  },
  {
   "cell_type": "code",
   "execution_count": 0,
   "metadata": {
    "colab": {},
    "colab_type": "code",
    "id": "__dtC3VnGq4t"
   },
   "outputs": [],
   "source": [
    "wh = 2*np.random.random((2,2)) - 1\n",
    "bh = 2*np.random.random((1,2)) - 1\n",
    "wo = 2*np.random.random((2,1)) - 1\n",
    "bo = 2*np.random.random((1,1)) - 1\n",
    "\n",
    "learning_rate = 0.1"
   ]
  },
  {
   "cell_type": "code",
   "execution_count": 0,
   "metadata": {
    "colab": {},
    "colab_type": "code",
    "id": "GOiSMFoVGq4x"
   },
   "outputs": [],
   "source": [
    "for iter in range(10000):\n",
    "    output0 = X\n",
    "\n",
    "    input_hidden = np.dot(output0,wh) + bh\n",
    "    output_hidden = sigmoid(input_hidden)\n",
    "\n",
    "    input_for_output_layer = np.dot(output_hidden,wo) + bo\n",
    "    output = sigmoid(input_for_output_layer)\n",
    "\n",
    "    first_term_output_layer = output-Y\n",
    "    second_term_output_layer = derivativeSigmoid(input_for_output_layer)\n",
    "\n",
    "    first_two_output_layer = first_term_output_layer*second_term_output_layer\n",
    "\n",
    "    first_term_hidden_layer = np.dot(first_two_output_layer,wo.T)\n",
    "    second_term_hidden_layer = derivativeSigmoid(input_hidden)\n",
    "\n",
    "    first_two_hidden_layer = first_term_hidden_layer*second_term_hidden_layer\n",
    "\n",
    "    changes_output_layer = np.dot(output_hidden.T,first_two_output_layer)\n",
    "    bias_change_output_layer = np.sum(first_two_output_layer,axis = 0,keepdims=True)\n",
    "\n",
    "    changes_hidden_layer = np.dot(output0.T,first_two_hidden_layer)\n",
    "    bias_change_hidden_layer = np.sum(first_two_hidden_layer,axis = 0,keepdims=True)\n",
    "    \n",
    "    wh -= learning_rate*changes_hidden_layer\n",
    "    bh -= learning_rate*bias_change_hidden_layer\n",
    "\n",
    "    wo -= learning_rate*changes_output_layer\n",
    "    bo -= learning_rate*bias_change_output_layer\n",
    "    \n"
   ]
  },
  {
   "cell_type": "code",
   "execution_count": 0,
   "metadata": {
    "colab": {},
    "colab_type": "code",
    "id": "L8FbkUAlGq41",
    "outputId": "8790bde1-2719-4f2e-ccb2-a3efb44cf46c"
   },
   "outputs": [
    {
     "data": {
      "text/plain": [
       "array([[0.06451428],\n",
       "       [0.93820035],\n",
       "       [0.93807286],\n",
       "       [0.06835631]])"
      ]
     },
     "execution_count": 7,
     "metadata": {
      "tags": []
     },
     "output_type": "execute_result"
    }
   ],
   "source": [
    "output"
   ]
  },
  {
   "cell_type": "code",
   "execution_count": 0,
   "metadata": {
    "colab": {},
    "colab_type": "code",
    "id": "RTQaYtD_Gq47"
   },
   "outputs": [],
   "source": []
  }
 ],
 "metadata": {
  "accelerator": "GPU",
  "colab": {
   "name": "Implementation of XOR Gate by NN.ipynb",
   "provenance": [],
   "version": "0.3.2"
  },
  "kernelspec": {
   "display_name": "Python 3",
   "language": "python",
   "name": "python3"
  },
  "language_info": {
   "codemirror_mode": {
    "name": "ipython",
    "version": 3
   },
   "file_extension": ".py",
   "mimetype": "text/x-python",
   "name": "python",
   "nbconvert_exporter": "python",
   "pygments_lexer": "ipython3",
   "version": "3.6.5"
  }
 },
 "nbformat": 4,
 "nbformat_minor": 1
}
