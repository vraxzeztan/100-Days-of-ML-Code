{
  "nbformat": 4,
  "nbformat_minor": 0,
  "metadata": {
    "colab": {
      "name": "MNIST - TensorFlow.ipynb",
      "version": "0.3.2",
      "provenance": []
    },
    "kernelspec": {
      "display_name": "Python 3",
      "language": "python",
      "name": "python3"
    },
    "accelerator": "GPU"
  },
  "cells": [
    {
      "metadata": {
        "id": "Ib9ao89-GDKW",
        "colab_type": "code",
        "colab": {}
      },
      "cell_type": "code",
      "source": [
        "import tensorflow as tf\n",
        "import numpy as np"
      ],
      "execution_count": 0,
      "outputs": []
    },
    {
      "metadata": {
        "id": "y-PXo7h6GDKZ",
        "colab_type": "code",
        "colab": {
          "base_uri": "https://localhost:8080/",
          "height": 538
        },
        "outputId": "0f0d9f69-4208-4b78-888f-4f76d4ca1589"
      },
      "cell_type": "code",
      "source": [
        "from tensorflow.examples.tutorials.mnist import input_data\n",
        "mnist = input_data.read_data_sets(\"MNIST_data/\", one_hot=True)"
      ],
      "execution_count": 2,
      "outputs": [
        {
          "output_type": "stream",
          "text": [
            "WARNING:tensorflow:From <ipython-input-2-8bf8ae5a5303>:2: read_data_sets (from tensorflow.contrib.learn.python.learn.datasets.mnist) is deprecated and will be removed in a future version.\n",
            "Instructions for updating:\n",
            "Please use alternatives such as official/mnist/dataset.py from tensorflow/models.\n",
            "WARNING:tensorflow:From /usr/local/lib/python3.6/dist-packages/tensorflow/contrib/learn/python/learn/datasets/mnist.py:260: maybe_download (from tensorflow.contrib.learn.python.learn.datasets.base) is deprecated and will be removed in a future version.\n",
            "Instructions for updating:\n",
            "Please write your own downloading logic.\n",
            "WARNING:tensorflow:From /usr/local/lib/python3.6/dist-packages/tensorflow/contrib/learn/python/learn/datasets/base.py:252: _internal_retry.<locals>.wrap.<locals>.wrapped_fn (from tensorflow.contrib.learn.python.learn.datasets.base) is deprecated and will be removed in a future version.\n",
            "Instructions for updating:\n",
            "Please use urllib or similar directly.\n",
            "Successfully downloaded train-images-idx3-ubyte.gz 9912422 bytes.\n",
            "WARNING:tensorflow:From /usr/local/lib/python3.6/dist-packages/tensorflow/contrib/learn/python/learn/datasets/mnist.py:262: extract_images (from tensorflow.contrib.learn.python.learn.datasets.mnist) is deprecated and will be removed in a future version.\n",
            "Instructions for updating:\n",
            "Please use tf.data to implement this functionality.\n",
            "Extracting MNIST_data/train-images-idx3-ubyte.gz\n",
            "Successfully downloaded train-labels-idx1-ubyte.gz 28881 bytes.\n",
            "WARNING:tensorflow:From /usr/local/lib/python3.6/dist-packages/tensorflow/contrib/learn/python/learn/datasets/mnist.py:267: extract_labels (from tensorflow.contrib.learn.python.learn.datasets.mnist) is deprecated and will be removed in a future version.\n",
            "Instructions for updating:\n",
            "Please use tf.data to implement this functionality.\n",
            "Extracting MNIST_data/train-labels-idx1-ubyte.gz\n",
            "WARNING:tensorflow:From /usr/local/lib/python3.6/dist-packages/tensorflow/contrib/learn/python/learn/datasets/mnist.py:110: dense_to_one_hot (from tensorflow.contrib.learn.python.learn.datasets.mnist) is deprecated and will be removed in a future version.\n",
            "Instructions for updating:\n",
            "Please use tf.one_hot on tensors.\n",
            "Successfully downloaded t10k-images-idx3-ubyte.gz 1648877 bytes.\n",
            "Extracting MNIST_data/t10k-images-idx3-ubyte.gz\n",
            "Successfully downloaded t10k-labels-idx1-ubyte.gz 4542 bytes.\n",
            "Extracting MNIST_data/t10k-labels-idx1-ubyte.gz\n",
            "WARNING:tensorflow:From /usr/local/lib/python3.6/dist-packages/tensorflow/contrib/learn/python/learn/datasets/mnist.py:290: DataSet.__init__ (from tensorflow.contrib.learn.python.learn.datasets.mnist) is deprecated and will be removed in a future version.\n",
            "Instructions for updating:\n",
            "Please use alternatives such as official/mnist/dataset.py from tensorflow/models.\n"
          ],
          "name": "stdout"
        }
      ]
    },
    {
      "metadata": {
        "id": "UQX5pi6XGDKe",
        "colab_type": "code",
        "colab": {
          "base_uri": "https://localhost:8080/",
          "height": 55
        },
        "outputId": "d477fd52-b0a4-4e06-d13f-b2c7f1ff44f4"
      },
      "cell_type": "code",
      "source": [
        "mnist"
      ],
      "execution_count": 3,
      "outputs": [
        {
          "output_type": "execute_result",
          "data": {
            "text/plain": [
              "Datasets(train=<tensorflow.contrib.learn.python.learn.datasets.mnist.DataSet object at 0x7f53beaa90b8>, validation=<tensorflow.contrib.learn.python.learn.datasets.mnist.DataSet object at 0x7f5350266e10>, test=<tensorflow.contrib.learn.python.learn.datasets.mnist.DataSet object at 0x7f534fdb1048>)"
            ]
          },
          "metadata": {
            "tags": []
          },
          "execution_count": 3
        }
      ]
    },
    {
      "metadata": {
        "id": "yZEum6uXGDKi",
        "colab_type": "code",
        "colab": {}
      },
      "cell_type": "code",
      "source": [
        "n_input = 784\n",
        "n_hidden_1 = 1024\n",
        "n_hidden_2 = 1024\n",
        "n_classes = 10"
      ],
      "execution_count": 0,
      "outputs": []
    },
    {
      "metadata": {
        "id": "asGTZC1_GDKl",
        "colab_type": "code",
        "colab": {}
      },
      "cell_type": "code",
      "source": [
        "# Initialize weights and biases\n",
        "\n",
        "weights = {\n",
        "    'h1': tf.Variable(tf.random_normal([n_input, n_hidden_1])),\n",
        "    'h2': tf.Variable(tf.random_normal([n_hidden_1, n_hidden_2])),\n",
        "    'out': tf.Variable(tf.random_normal([n_hidden_2, n_classes]))\n",
        "}\n",
        "\n",
        "biases = {\n",
        "    'h1': tf.Variable(tf.random_normal([n_hidden_1])),\n",
        "    'h2': tf.Variable(tf.random_normal([n_hidden_2])),\n",
        "    'out': tf.Variable(tf.random_normal([n_classes]))\n",
        "}"
      ],
      "execution_count": 0,
      "outputs": []
    },
    {
      "metadata": {
        "id": "BwEgYxZ5GDKp",
        "colab_type": "text"
      },
      "cell_type": "markdown",
      "source": [
        "## Forward Propagation "
      ]
    },
    {
      "metadata": {
        "id": "GFU9WR78GDKq",
        "colab_type": "code",
        "colab": {}
      },
      "cell_type": "code",
      "source": [
        "# matrix multiplication using tensorflow\n",
        "def forward_propagation(x, weights, biases):\n",
        "    in_layer1 = tf.add(tf.matmul(x, weights['h1']), biases['h1'])\n",
        "    out_layer1 = tf.nn.relu(in_layer1)\n",
        "    \n",
        "    in_layer2 = tf.add(tf.matmul(out_layer1, weights['h2']), biases['h2'])\n",
        "    out_layer2 = tf.nn.relu(in_layer2)\n",
        "    \n",
        "    output = tf.add(tf.matmul(out_layer2, weights['out']), biases['out'])\n",
        "    return output"
      ],
      "execution_count": 0,
      "outputs": []
    },
    {
      "metadata": {
        "id": "FcVMCEnaGDKt",
        "colab_type": "code",
        "colab": {}
      },
      "cell_type": "code",
      "source": [
        "x = tf.placeholder(\"float\", [None, n_input])\n",
        "y = tf.placeholder(tf.int32, [None, n_classes])\n",
        "pred = forward_propagation(x, weights, biases)"
      ],
      "execution_count": 0,
      "outputs": []
    },
    {
      "metadata": {
        "id": "YTqOwWSeGDKv",
        "colab_type": "code",
        "colab": {}
      },
      "cell_type": "code",
      "source": [
        "# initialize cost\n",
        "cost = tf.reduce_mean(tf.nn.softmax_cross_entropy_with_logits_v2(logits = pred, labels = y))"
      ],
      "execution_count": 0,
      "outputs": []
    },
    {
      "metadata": {
        "id": "Oc9gtvR5GDKz",
        "colab_type": "code",
        "colab": {}
      },
      "cell_type": "code",
      "source": [
        "# initialize optimizer\n",
        "optimizer = tf.train.AdamOptimizer(learning_rate=0.005)\n",
        "optimize = optimizer.minimize(cost)"
      ],
      "execution_count": 0,
      "outputs": []
    },
    {
      "metadata": {
        "id": "OaIdItaMGDK2",
        "colab_type": "code",
        "colab": {
          "base_uri": "https://localhost:8080/",
          "height": 72
        },
        "outputId": "50547079-cc72-4288-ed04-3993720a726a"
      },
      "cell_type": "code",
      "source": [
        "sess = tf.InteractiveSession()\n",
        "sess.run(tf.global_variables_initializer())"
      ],
      "execution_count": 56,
      "outputs": [
        {
          "output_type": "stream",
          "text": [
            "/usr/local/lib/python3.6/dist-packages/tensorflow/python/client/session.py:1645: UserWarning: An interactive session is already active. This can cause out-of-memory errors in some cases. You must explicitly call `InteractiveSession.close()` to release resources held by the other session(s).\n",
            "  warnings.warn('An interactive session is already active. This can '\n"
          ],
          "name": "stderr"
        }
      ]
    },
    {
      "metadata": {
        "id": "H09ccDZlGDK6",
        "colab_type": "code",
        "colab": {
          "base_uri": "https://localhost:8080/",
          "height": 1745
        },
        "outputId": "61522a4f-0d25-4a31-820f-03e81e94f08a"
      },
      "cell_type": "code",
      "source": [
        "# training the NN\n",
        "batch_size = 100\n",
        "for i in range(100):\n",
        "    total_cost = 0\n",
        "    num_batches = int(mnist.train.num_examples/batch_size)\n",
        "    for j in range(num_batches):\n",
        "        x_batch, y_batch = mnist.train.next_batch(batch_size)\n",
        "        c,_ = sess.run([cost,optimize],feed_dict={x:x_batch,y:y_batch})\n",
        "        total_cost +=c\n",
        "    print(i, total_cost)"
      ],
      "execution_count": 57,
      "outputs": [
        {
          "output_type": "stream",
          "text": [
            "0 118126.32351052761\n",
            "1 27104.376900479198\n",
            "2 13531.493196856842\n",
            "3 8557.167947484351\n",
            "4 6984.591455671191\n",
            "5 6188.863178430618\n",
            "6 5383.782899538752\n",
            "7 4521.557403519742\n",
            "8 4994.414228880236\n",
            "9 4042.9149931977945\n",
            "10 3682.200897175348\n",
            "11 3773.4104679917987\n",
            "12 3113.263729441451\n",
            "13 3217.4608761974278\n",
            "14 2539.0160233054303\n",
            "15 2818.3385835144686\n",
            "16 2924.1288564794704\n",
            "17 1758.4724550723413\n",
            "18 2018.7013241238103\n",
            "19 2185.459636732856\n",
            "20 2576.7047197772054\n",
            "21 1608.5425260657591\n",
            "22 1781.1816417844973\n",
            "23 1640.3550898974117\n",
            "24 1580.7738076535522\n",
            "25 1601.9646164420992\n",
            "26 1328.4268635481017\n",
            "27 1855.486105116563\n",
            "28 1233.067123156733\n",
            "29 1434.0812890470472\n",
            "30 1577.376355274535\n",
            "31 1460.9388833419046\n",
            "32 1451.8629366483099\n",
            "33 1511.5696283716557\n",
            "34 1254.601971432976\n",
            "35 1046.568667022828\n",
            "36 1253.6966895721007\n",
            "37 1070.6739397377626\n",
            "38 1461.1136104866048\n",
            "39 1288.2030274761917\n",
            "40 965.4184615268558\n",
            "41 1185.9126804312118\n",
            "42 1302.7281972848473\n",
            "43 1171.8916413237155\n",
            "44 929.7942569683769\n",
            "45 899.8613713473893\n",
            "46 1319.0822086399291\n",
            "47 1252.768187363464\n",
            "48 852.4733055820135\n",
            "49 1094.2522594039406\n",
            "50 947.5169264578813\n",
            "51 827.2054435922294\n",
            "52 890.1481107179737\n",
            "53 1322.5038766868183\n",
            "54 911.3735461388266\n",
            "55 825.0611339778651\n",
            "56 746.3123733740001\n",
            "57 868.3411194441446\n",
            "58 1255.1250272008222\n",
            "59 950.4385893823512\n",
            "60 729.8386654266326\n",
            "61 1015.3321884653749\n",
            "62 1155.493643786737\n",
            "63 1022.3530356902629\n",
            "64 981.4948557037093\n",
            "65 656.8688314079282\n",
            "66 809.0210242454707\n",
            "67 622.3099151797379\n",
            "68 794.0970268459718\n",
            "69 1128.407171578412\n",
            "70 767.7783485325933\n",
            "71 702.5677678710965\n",
            "72 520.7903246878348\n",
            "73 991.5123138651252\n",
            "74 731.2007584772928\n",
            "75 697.9863280360016\n",
            "76 886.422419600982\n",
            "77 722.9366001226324\n",
            "78 1172.8776669461786\n",
            "79 745.1852608257502\n",
            "80 1020.0947671681643\n",
            "81 1187.9702357942492\n",
            "82 826.898723303806\n",
            "83 490.1239345446229\n",
            "84 694.688338820546\n",
            "85 842.3616479635239\n",
            "86 724.857913038702\n",
            "87 537.857342928648\n",
            "88 735.1891242367022\n",
            "89 526.9350674927375\n",
            "90 1335.5805834928553\n",
            "91 930.6736065149307\n",
            "92 669.06935854256\n",
            "93 812.3450150489807\n",
            "94 892.7998094819486\n",
            "95 1260.9013272669856\n",
            "96 501.63966116309166\n",
            "97 554.8221481740475\n",
            "98 550.8372841521992\n",
            "99 667.2178567886909\n"
          ],
          "name": "stdout"
        }
      ]
    },
    {
      "metadata": {
        "id": "xtrDvmZiGDK-",
        "colab_type": "code",
        "colab": {
          "base_uri": "https://localhost:8080/",
          "height": 35
        },
        "outputId": "57a73ed3-2879-44a8-84b7-2b644a1c12ce"
      },
      "cell_type": "code",
      "source": [
        "predictions = tf.argmax(pred, 1)\n",
        "correct_labels = tf.argmax(y, 1)\n",
        "correct_predictions = tf.equal(predictions, correct_labels)\n",
        "predictions,correct_predictions  = sess.run([predictions, correct_predictions], feed_dict={x:mnist.test.images,\n",
        "                                              y:mnist.test.labels})\n",
        "correct_predictions.sum()"
      ],
      "execution_count": 58,
      "outputs": [
        {
          "output_type": "execute_result",
          "data": {
            "text/plain": [
              "9796"
            ]
          },
          "metadata": {
            "tags": []
          },
          "execution_count": 58
        }
      ]
    }
  ]
}